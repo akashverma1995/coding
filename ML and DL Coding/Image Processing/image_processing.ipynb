{
 "cells": [
  {
   "attachments": {},
   "cell_type": "markdown",
   "metadata": {},
   "source": [
    "### Loading And Showing The Image"
   ]
  },
  {
   "cell_type": "code",
   "execution_count": 12,
   "metadata": {},
   "outputs": [],
   "source": [
    "# Loading and writting the image using opencv \n",
    "import cv2\n",
    "# 0-grayscle, 1-color image, -1- load image including alpha channel\n",
    "\n",
    "img=cv2.imread('lena.jpg',1)\n",
    "\n",
    "cv2.imshow('image',img)\n",
    "wait=cv2.waitKey(0) # 5sec -5000\n",
    "if wait==ord('q') : \n",
    "    cv2.destroyAllWindows()\n",
    "\n",
    "# cv2.imwrite('image.png',img)"
   ]
  },
  {
   "attachments": {},
   "cell_type": "markdown",
   "metadata": {},
   "source": [
    "### Capturing the video and writing the video"
   ]
  },
  {
   "cell_type": "code",
   "execution_count": 13,
   "metadata": {},
   "outputs": [],
   "source": [
    "# capturing the image from webcam\n",
    "import cv2\n",
    "\n",
    "cap=cv2.VideoCapture(0)\n",
    "# forwritting the video \n",
    "fourcc=cv2.VideoWriter_fourcc(*'XVID')\n",
    "out=cv2.VideoWriter('output.avi',fourcc,20.0,(640,480))  #20.0 frames/sec\n",
    "\n",
    "# while(True):\n",
    "# def new_func(cap):\n",
    "#     print(cap.get(cv2.CAP_PROP_FPS))\n",
    "#     print(cap.get(cv2.CAP_PROP_FRAME_HEIGHT))\n",
    "#     print(cap.get(cv2.CAP_PROP_FRAME_WIDTH))\n",
    "\n",
    "def new_func(out, frame):\n",
    "    out.write(frame)\n",
    "\n",
    "while(cap.isOpened()):\n",
    "    ret,frame=cap.read()\n",
    "\n",
    "    if ret==True:\n",
    "\n",
    "        # new_func(cap)\n",
    "        new_func(out, frame)\n",
    "        gray=cv2.cvtColor(frame,cv2.COLOR_BGR2GRAY)\n",
    "        cv2.imshow('frame',gray)\n",
    "        if cv2.waitKey(1) & 0xFF==ord('q'):\n",
    "            break\n",
    "\n",
    "cap.release()\n",
    "out.release()\n",
    "cv2.destroyAllWindows()"
   ]
  },
  {
   "cell_type": "code",
   "execution_count": 14,
   "metadata": {},
   "outputs": [],
   "source": [
    "import cv2\n",
    "# 0-grayscle, 1-color image, -1- load image including alpha channel\n",
    "\n",
    "img=cv2.imread('lena.jpg',1)\n",
    "\n",
    "cv2.imshow('image',img)\n",
    "wait=cv2.waitKey(0) # 5sec -5000\n",
    "if wait==ord('q') : \n",
    "    cv2.destroyAllWindows()"
   ]
  },
  {
   "attachments": {},
   "cell_type": "markdown",
   "metadata": {},
   "source": [
    "###  Draw Geometery and Shapes on Image\n"
   ]
  },
  {
   "cell_type": "code",
   "execution_count": 21,
   "metadata": {},
   "outputs": [
    {
     "ename": "",
     "evalue": "",
     "output_type": "error",
     "traceback": [
      "\u001b[1;31mThe Kernel crashed while executing code in the the current cell or a previous cell. Please review the code in the cell(s) to identify a possible cause of the failure. Click <a href='https://aka.ms/vscodeJupyterKernelCrash'>here</a> for more info. View Jupyter <a href='command:jupyter.viewOutput'>log</a> for further details."
     ]
    }
   ],
   "source": [
    "import cv2 \n",
    "import numpy as np\n",
    "\n",
    "img=np.zeros([512,512,3],np.uint8)\n",
    "img=cv2.line(img,(0,0),(125,125),(255,0,0),3)\n",
    "img=cv2.arrowedLine(img,(0,0),(125,314),(255,0,0),3)\n",
    "cv2.imshow('image',img)\n",
    "if cv2.waitKey(0) & 0xFF==ord('q'):\n",
    "    cv2.destroyAllWindows()"
   ]
  },
  {
   "cell_type": "code",
   "execution_count": null,
   "metadata": {},
   "outputs": [],
   "source": []
  }
 ],
 "metadata": {
  "kernelspec": {
   "display_name": "yolov5",
   "language": "python",
   "name": "python3"
  },
  "language_info": {
   "codemirror_mode": {
    "name": "ipython",
    "version": 3
   },
   "file_extension": ".py",
   "mimetype": "text/x-python",
   "name": "python",
   "nbconvert_exporter": "python",
   "pygments_lexer": "ipython3",
   "version": "3.8.13"
  },
  "orig_nbformat": 4,
  "vscode": {
   "interpreter": {
    "hash": "73658cc81d967be0c68acc4771106fc5d92a4f28bd11ccf877fcba4dd91053a8"
   }
  }
 },
 "nbformat": 4,
 "nbformat_minor": 2
}
