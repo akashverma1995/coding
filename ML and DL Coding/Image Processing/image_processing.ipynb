{
 "cells": [
  {
   "attachments": {},
   "cell_type": "markdown",
   "metadata": {},
   "source": [
    "### Loading And Showing The Image"
   ]
  },
  {
   "cell_type": "code",
   "execution_count": 12,
   "metadata": {},
   "outputs": [],
   "source": [
    "# Loading and writting the image using opencv \n",
    "import cv2\n",
    "# 0-grayscle, 1-color image, -1- load image including alpha channel\n",
    "\n",
    "img=cv2.imread('lena.jpg',1)\n",
    "\n",
    "cv2.imshow('image',img)\n",
    "wait=cv2.waitKey(0) # 5sec -5000\n",
    "if wait==ord('q') : \n",
    "    cv2.destroyAllWindows()\n",
    "\n",
    "# cv2.imwrite('image.png',img)"
   ]
  },
  {
   "attachments": {},
   "cell_type": "markdown",
   "metadata": {},
   "source": [
    "### Capturing the video and writing the video"
   ]
  },
  {
   "cell_type": "code",
   "execution_count": 13,
   "metadata": {},
   "outputs": [],
   "source": [
    "# capturing the image from webcam\n",
    "import cv2\n",
    "\n",
    "cap=cv2.VideoCapture(0)\n",
    "# forwritting the video \n",
    "fourcc=cv2.VideoWriter_fourcc(*'XVID')\n",
    "out=cv2.VideoWriter('output.avi',fourcc,20.0,(640,480))  #20.0 frames/sec\n",
    "\n",
    "# while(True):\n",
    "# def new_func(cap):\n",
    "#     print(cap.get(cv2.CAP_PROP_FPS))\n",
    "#     print(cap.get(cv2.CAP_PROP_FRAME_HEIGHT))\n",
    "#     print(cap.get(cv2.CAP_PROP_FRAME_WIDTH))\n",
    "\n",
    "def new_func(out, frame):\n",
    "    out.write(frame)\n",
    "\n",
    "while(cap.isOpened()):\n",
    "    ret,frame=cap.read()\n",
    "\n",
    "    if ret==True:\n",
    "\n",
    "        # new_func(cap)\n",
    "        new_func(out, frame)\n",
    "        gray=cv2.cvtColor(frame,cv2.COLOR_BGR2GRAY)\n",
    "        cv2.imshow('frame',gray)\n",
    "        if cv2.waitKey(1) & 0xFF==ord('q'):\n",
    "            break\n",
    "\n",
    "cap.release()\n",
    "out.release()\n",
    "cv2.destroyAllWindows()"
   ]
  },
  {
   "cell_type": "code",
   "execution_count": 14,
   "metadata": {},
   "outputs": [],
   "source": [
    "import cv2\n",
    "# 0-grayscle, 1-color image, -1- load image including alpha channel\n",
    "\n",
    "img=cv2.imread('lena.jpg',1)\n",
    "\n",
    "cv2.imshow('image',img)\n",
    "wait=cv2.waitKey(0) # 5sec -5000\n",
    "if wait==ord('q') : \n",
    "    cv2.destroyAllWindows()"
   ]
  },
  {
   "attachments": {},
   "cell_type": "markdown",
   "metadata": {},
   "source": [
    "###  Draw Geometery and Shapes on Image\n"
   ]
  },
  {
   "cell_type": "code",
   "execution_count": 2,
   "metadata": {},
   "outputs": [
    {
     "data": {
      "image/png": "[encoded data removed]",
      "text/plain": [
       "<PIL.Image.Image image mode=RGB size=512x512 at 0x7FAB0398A5B0>"
      ]
     },
     "metadata": {},
     "output_type": "display_data"
    }
   ],
   "source": [
    "import cv2 \n",
    "import numpy as np\n",
    "from PIL import Image\n",
    "from IPython.display import display\n",
    "\n",
    "img=np.zeros([512,512,3],np.uint8)\n",
    "img=cv2.line(img,(0,0),(125,125),(255,0,0),3)\n",
    "img=cv2.arrowedLine(img,(0,0),(125,314),(255,0,0),3)\n",
    "img=cv2.circle(img,(356,314),23,(255,0,255),3)\n",
    "img=cv2.rectangle(img,(120,120),(320,320),(255,0,255),3)\n",
    "font=cv2.FONT_HERSHEY_COMPLEX\n",
    "img=cv2.putText(img,'Text',(400,400),font,1,(0,0,255),2,cv2.LINE_AA)\n",
    "\n",
    "display(Image.fromarray(img))\n",
    "# cv2.imshow('image',img)\n",
    "# if cv2.waitKey(0) & 0xFF==ord('q'):\n",
    "#     cv2.destroyAllWindows()"
   ]
  },
  {
   "attachments": {},
   "cell_type": "markdown",
   "metadata": {},
   "source": [
    "### Setting Camera Parameter "
   ]
  },
  {
   "cell_type": "code",
   "execution_count": 14,
   "metadata": {},
   "outputs": [
    {
     "name": "stdout",
     "output_type": "stream",
     "text": [
      "480.0\n",
      "640.0\n",
      "True\n",
      "True\n"
     ]
    }
   ],
   "source": [
    "# capturing the image from webcam\n",
    "import cv2\n",
    "import datetime \n",
    "\n",
    "cap=cv2.VideoCapture(0)\n",
    "\n",
    "print(cap.get(cv2.CAP_PROP_FRAME_HEIGHT))\n",
    "print(cap.get(cv2.CAP_PROP_FRAME_WIDTH))\n",
    "\n",
    "cap.set(3,1208)\n",
    "cap.set(4,512)\n",
    "\n",
    "print(cap.set(3,1208))\n",
    "print(cap.set(4,512))\n",
    "\n",
    "while(cap.isOpened()):\n",
    "    ret,frame=cap.read()\n",
    "\n",
    "    if ret==True:\n",
    "        datetime_text=str(datetime.datetime.now())\n",
    "        font=cv2.FONT_HERSHEY_COMPLEX\n",
    "        frame=cv2.putText(frame,datetime_text,(50,50),font,1,(255,0,255),3,cv2.LINE_AA)\n",
    "        cv2.imshow('frame',frame)\n",
    "        if cv2.waitKey(1) & 0xFF==ord('q'):\n",
    "            break\n",
    "\n",
    "cap.release()\n",
    "cv2.destroyAllWindows()"
   ]
  },
  {
   "attachments": {},
   "cell_type": "markdown",
   "metadata": {},
   "source": [
    "### Handle Mouse Event "
   ]
  },
  {
   "cell_type": "code",
   "execution_count": 6,
   "metadata": {},
   "outputs": [
    {
     "name": "stdout",
     "output_type": "stream",
     "text": [
      "463 188\n",
      "174 151\n",
      "110 217\n",
      "110 217\n",
      "149 267\n"
     ]
    }
   ],
   "source": [
    "import cv2\n",
    "import numpy as np \n",
    "\n",
    "# for i in dir(cv2):\n",
    "#     if 'EVENT' in i:\n",
    "#         print(i)\n",
    "\n",
    "def click_event(event, x, y, flags, params):\n",
    "    if event == cv2.EVENT_FLAG_LBUTTON:\n",
    "        print(x, y)\n",
    "        font=cv2.FONT_HERSHEY_SIMPLEX\n",
    "        strXY=str(x)+','+str(y)\n",
    "        cv2.putText(img,strXY,(x,y),font,1,(255,0,255),2)\n",
    "        cv2.imshow('image',img)\n",
    "    \"\"\" BGR ON RIGHT CLICK\"\"\"\n",
    "    if event==cv2.EVENT_FLAG_RBUTTON:\n",
    "        blue=img[y,x,0]\n",
    "        green=img[y,x,1]\n",
    "        red=img[y,x,2]\n",
    "        font=cv2.FONT_HERSHEY_SIMPLEX\n",
    "        strBGR=str(blue)+','+str(green)+','+str(red)\n",
    "        cv2.putText(img,strBGR,(x,y),font,1,(0,255,255),2)\n",
    "        cv2.imshow('image',img)        \n",
    "\n",
    "img=np.zeros((512,512,3),np.uint8)\n",
    "cv2.imshow('image',img)\n",
    "\n",
    "cv2.setMouseCallback('image',click_event)\n",
    "if cv2.waitKey(0) & 0xFF==ord('q'):\n",
    "    cv2.destroyAllWindows()\n",
    "      \n",
    "    \n"
   ]
  },
  {
   "cell_type": "code",
   "execution_count": 1,
   "metadata": {},
   "outputs": [],
   "source": [
    "\"\"\" It will connect the all the clicked points\"\"\"\n",
    "import cv2\n",
    "import numpy as np \n",
    "\n",
    "def click_event(event, x, y, flags, params):\n",
    "    if event == cv2.EVENT_FLAG_LBUTTON:\n",
    "        cv2.circle(img,(x,y),4,(255,255,0),-1)\n",
    "        points.append((x,y))\n",
    "        if len(points)>=2:\n",
    "            cv2.line(img,points[-1],points[-2],(255,0,255),3)\n",
    "        cv2.imshow('image',img)      \n",
    "\n",
    "img=np.zeros((512,512,3),np.uint8)\n",
    "cv2.imshow('image',img)\n",
    "points=[]\n",
    "cv2.setMouseCallback('image',click_event)\n",
    "if cv2.waitKey(0) & 0xFF==ord('q'):\n",
    "    cv2.destroyAllWindows()"
   ]
  },
  {
   "cell_type": "code",
   "execution_count": null,
   "metadata": {},
   "outputs": [],
   "source": [
    "import cv2\n",
    "import numpy as np \n",
    "\n",
    "def click_event(event, x, y, flags, params):\n",
    "    if event == cv2.EVENT_FLAG_LBUTTON:\n",
    "        cv2.circle(img,(x,y),4,(255,255,0),-1)\n",
    "        points.append((x,y))\n",
    "        if len(points)>=2:\n",
    "            cv2.line(img,points[-1],points[-2],(255,0,255),3)\n",
    "        cv2.imshow('image',img)      \n",
    "\n",
    "img=np.zeros((512,512,3),np.uint8)\n",
    "cv2.imshow('image',img)\n",
    "\n",
    "cv2.setMouseCallback('image',click_event)\n",
    "if cv2.waitKey(0) & 0xFF==ord('q'):\n",
    "    cv2.destroyAllWindows()"
   ]
  }
 ],
 "metadata": {
  "kernelspec": {
   "display_name": "yolov5",
   "language": "python",
   "name": "python3"
  },
  "language_info": {
   "codemirror_mode": {
    "name": "ipython",
    "version": 3
   },
   "file_extension": ".py",
   "mimetype": "text/x-python",
   "name": "python",
   "nbconvert_exporter": "python",
   "pygments_lexer": "ipython3",
   "version": "3.8.13"
  },
  "orig_nbformat": 4,
  "vscode": {
   "interpreter": {
    "hash": "73658cc81d967be0c68acc4771106fc5d92a4f28bd11ccf877fcba4dd91053a8"
   }
  }
 },
 "nbformat": 4,
 "nbformat_minor": 2
}
