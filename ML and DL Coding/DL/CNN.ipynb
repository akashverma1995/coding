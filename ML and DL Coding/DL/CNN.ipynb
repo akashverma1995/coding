{
 "cells": [
  {
   "cell_type": "code",
   "execution_count": 11,
   "id": "8eb087bd",
   "metadata": {},
   "outputs": [],
   "source": [
    "import torch\n",
    "import torch.nn.functional as F  # Parameterless functions, like (some) activation functions\n",
    "from torch import optim  # For optimizers like SGD, Adam, etc.\n",
    "from torch import nn  # All neural network module\n",
    "from torch.utils.data import DataLoader  # Gives easier dataset managment by creating mini batches etc.\n",
    "\n",
    "import torchvision # torch package for vision related things\n",
    "import torchvision.datasets as datasets  # Standard datasets\n",
    "import torchvision.transforms as transforms  # Transformations we can perform on our dataset for augmentation\n",
    "\n",
    "from tqdm import tqdm  # For nice progress bar!"
   ]
  },
  {
   "cell_type": "code",
   "execution_count": 23,
   "id": "fa190252",
   "metadata": {},
   "outputs": [],
   "source": [
    "# 2 conv layer \n",
    "class CNN(nn.Module):\n",
    "    def __init__(self,in_channels,num_classes):\n",
    "        super(CNN,self).__init__()\n",
    "        self.conv1=nn.Conv2d(in_channels=in_channels,\n",
    "                            out_channels=8,\n",
    "                            kernel_size=(3,3),\n",
    "                            stride=(1,1),\n",
    "                            padding=(1,1))\n",
    "        self.pool=nn.MaxPool2d(kernel_size=(2,2),stride=(2,2))\n",
    "        self.conv2=nn.Conv2d(in_channels=8,\n",
    "                            out_channels=16,\n",
    "                            kernel_size=(3,3),\n",
    "                            stride=(1,1),\n",
    "                            padding=(1,1))\n",
    "        self.fc1=nn.Linear(16*7*7,num_classes)\n",
    "    def forward(self,x):\n",
    "        x=F.relu(self.conv1(x))\n",
    "        x=self.pool(x)\n",
    "        x=F.relu(self.conv2(x))\n",
    "        x=self.pool(x)\n",
    "        x=x.reshape(x.shape[0],-1)\n",
    "        x=self.fc1(x)\n",
    "        return x "
   ]
  },
  {
   "cell_type": "code",
   "execution_count": 24,
   "id": "15471ce4",
   "metadata": {},
   "outputs": [],
   "source": [
    "device = torch.device(\"cuda\" if torch.cuda.is_available() else \"cpu\")"
   ]
  },
  {
   "cell_type": "code",
   "execution_count": 25,
   "id": "1a0a6e1a",
   "metadata": {},
   "outputs": [],
   "source": [
    "in_channels = 1\n",
    "num_classes = 10\n",
    "learning_rate = 0.001\n",
    "batch_size = 64\n",
    "num_epochs = 3"
   ]
  },
  {
   "cell_type": "code",
   "execution_count": 26,
   "id": "a35484a3",
   "metadata": {},
   "outputs": [],
   "source": [
    "train_dataset = datasets.MNIST(root=\"dataset/\", train=True, transform=transforms.ToTensor(), download=True)\n",
    "test_dataset = datasets.MNIST(root=\"dataset/\", train=False, transform=transforms.ToTensor(), download=True)\n",
    "train_loader = DataLoader(dataset=train_dataset, batch_size=batch_size, shuffle=True)\n",
    "test_loader = DataLoader(dataset=test_dataset, batch_size=batch_size, shuffle=True)"
   ]
  },
  {
   "cell_type": "code",
   "execution_count": 48,
   "id": "5933bb4a",
   "metadata": {},
   "outputs": [
    {
     "name": "stdout",
     "output_type": "stream",
     "text": [
      "tensor(8)\n"
     ]
    },
    {
     "data": {
      "image/png": "[encoded data removed]",
      "text/plain": [
       "<Figure size 432x288 with 1 Axes>"
      ]
     },
     "metadata": {
      "needs_background": "light"
     },
     "output_type": "display_data"
    }
   ],
   "source": [
    "# visualization\n",
    "import matplotlib.pyplot as plt\n",
    "for i,j in train_loader:\n",
    "    print(j[0])\n",
    "    plt.imshow(i[0].reshape(28,28,1))\n",
    "    plt.show()\n",
    "    break"
   ]
  },
  {
   "cell_type": "code",
   "execution_count": 27,
   "id": "a644493f",
   "metadata": {},
   "outputs": [],
   "source": [
    "model = CNN(in_channels=in_channels, num_classes=num_classes).to(device)"
   ]
  },
  {
   "cell_type": "code",
   "execution_count": 28,
   "id": "0d23b802",
   "metadata": {},
   "outputs": [],
   "source": [
    "criterion = nn.CrossEntropyLoss()\n",
    "optimizer = optim.Adam(model.parameters(), lr=learning_rate)"
   ]
  },
  {
   "cell_type": "code",
   "execution_count": 52,
   "id": "425067e0",
   "metadata": {},
   "outputs": [
    {
     "name": "stderr",
     "output_type": "stream",
     "text": [
      "100%|█████████████████████████████████████████| 938/938 [00:15<00:00, 59.52it/s]\n",
      "100%|█████████████████████████████████████████| 938/938 [00:17<00:00, 52.39it/s]\n",
      "100%|█████████████████████████████████████████| 938/938 [00:17<00:00, 53.07it/s]\n"
     ]
    }
   ],
   "source": [
    "# training \n",
    "for epoch in range(num_epochs):\n",
    "    for batch_idx, (data,targets) in enumerate(tqdm(train_loader)):\n",
    "        data=data.to(device=device)\n",
    "        targets=targets.to(device=device)\n",
    "        \n",
    "        scores=model(data)\n",
    "        loss=criterion(scores,targets)\n",
    "        \n",
    "        optimizer.zero_grad()\n",
    "        loss.backward()\n",
    "        \n",
    "        optimizer.step()"
   ]
  },
  {
   "cell_type": "code",
   "execution_count": 54,
   "id": "774620e7",
   "metadata": {},
   "outputs": [],
   "source": [
    "def check_accuracy(loader,model):\n",
    "    num_correct=0\n",
    "    num_samples=0\n",
    "    model.eval()\n",
    "    \n",
    "    with torch.no_grad():\n",
    "        for data,targets in loader:\n",
    "            data=data.to(device=device)\n",
    "            targets=targets.to(device=device)\n",
    "            \n",
    "            scores = model(data)\n",
    "            _, predictions = scores.max(1)\n",
    "            num_correct += (predictions == targets).sum()\n",
    "            num_samples += predictions.size(0)\n",
    "            \n",
    "    model.train()\n",
    "    return num_correct/num_samples\n",
    "            \n",
    "    "
   ]
  },
  {
   "cell_type": "code",
   "execution_count": 55,
   "id": "0a4b3e9e",
   "metadata": {},
   "outputs": [
    {
     "name": "stdout",
     "output_type": "stream",
     "text": [
      "Accuracy on training set: 98.39\n",
      "Accuracy on test set: 98.32\n"
     ]
    }
   ],
   "source": [
    "print(f\"Accuracy on training set: {check_accuracy(train_loader, model)*100:.2f}\")\n",
    "print(f\"Accuracy on test set: {check_accuracy(test_loader, model)*100:.2f}\")"
   ]
  },
  {
   "cell_type": "code",
   "execution_count": null,
   "id": "2c5dc8f7",
   "metadata": {},
   "outputs": [],
   "source": []
  }
 ],
 "metadata": {
  "kernelspec": {
   "display_name": "Python 3 (ipykernel)",
   "language": "python",
   "name": "python3"
  },
  "language_info": {
   "codemirror_mode": {
    "name": "ipython",
    "version": 3
   },
   "file_extension": ".py",
   "mimetype": "text/x-python",
   "name": "python",
   "nbconvert_exporter": "python",
   "pygments_lexer": "ipython3",
   "version": "3.9.12"
  }
 },
 "nbformat": 4,
 "nbformat_minor": 5
}
