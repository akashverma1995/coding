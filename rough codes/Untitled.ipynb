{
 "cells": [
  {
   "cell_type": "code",
   "execution_count": 46,
   "id": "370542bb",
   "metadata": {},
   "outputs": [
    {
     "name": "stdout",
     "output_type": "stream",
     "text": [
      "All information stroed in database successfully\n"
     ]
    },
    {
     "ename": "TypeError",
     "evalue": "deparment_name() missing 1 required positional argument: 'branch'",
     "output_type": "error",
     "traceback": [
      "\u001b[0;31m---------------------------------------------------------------------------\u001b[0m",
      "\u001b[0;31mTypeError\u001b[0m                                 Traceback (most recent call last)",
      "Input \u001b[0;32mIn [46]\u001b[0m, in \u001b[0;36m<cell line: 14>\u001b[0;34m()\u001b[0m\n\u001b[1;32m     12\u001b[0m             \u001b[38;5;28;01mreturn\u001b[39;00m \u001b[38;5;124m'\u001b[39m\u001b[38;5;124mElectronics\u001b[39m\u001b[38;5;124m'\u001b[39m\n\u001b[1;32m     13\u001b[0m akash\u001b[38;5;241m=\u001b[39mindian_clg(\u001b[38;5;124m'\u001b[39m\u001b[38;5;124makash\u001b[39m\u001b[38;5;124m'\u001b[39m,\u001b[38;5;124m'\u001b[39m\u001b[38;5;124miet_davv\u001b[39m\u001b[38;5;124m'\u001b[39m,\u001b[38;5;124m'\u001b[39m\u001b[38;5;124m14t2014\u001b[39m\u001b[38;5;124m'\u001b[39m,\u001b[38;5;124m'\u001b[39m\u001b[38;5;124mindore\u001b[39m\u001b[38;5;124m'\u001b[39m,\u001b[38;5;124m'\u001b[39m\u001b[38;5;124me&tc\u001b[39m\u001b[38;5;124m'\u001b[39m)\n\u001b[0;32m---> 14\u001b[0m \u001b[43makash\u001b[49m\u001b[38;5;241;43m.\u001b[39;49m\u001b[43mdeparment_name\u001b[49m\u001b[43m(\u001b[49m\u001b[43m)\u001b[49m\n",
      "\u001b[0;31mTypeError\u001b[0m: deparment_name() missing 1 required positional argument: 'branch'"
     ]
    }
   ],
   "source": [
    "class indian_clg:\n",
    "    def __init__(self,Name,clg_name,roll_number,address,branch):\n",
    "        self.student_name=Name\n",
    "        self.colege_name=clg_name\n",
    "        self.roll_number=roll_number\n",
    "        self.address=address\n",
    "        self.branch=branch\n",
    "        print('All information stroed in database successfully')\n",
    "        \n",
    "    def deparment_name(self,branch):\n",
    "        if branch=='e&tc':\n",
    "            return 'Electronics'\n",
    "akash=indian_clg('akash','iet_davv','14t2014','indore','e&tc')\n",
    "akash.deparment_name()"
   ]
  },
  {
   "cell_type": "code",
   "execution_count": 44,
   "id": "45b071a5",
   "metadata": {},
   "outputs": [
    {
     "ename": "TypeError",
     "evalue": "__init__() missing 2 required positional arguments: 'name' and 'address'",
     "output_type": "error",
     "traceback": [
      "\u001b[0;31m---------------------------------------------------------------------------\u001b[0m",
      "\u001b[0;31mTypeError\u001b[0m                                 Traceback (most recent call last)",
      "Input \u001b[0;32mIn [44]\u001b[0m, in \u001b[0;36m<cell line: 18>\u001b[0;34m()\u001b[0m\n\u001b[1;32m     14\u001b[0m         \u001b[38;5;28;01mreturn\u001b[39;00m \u001b[38;5;28mself\u001b[39m\u001b[38;5;241m.\u001b[39mlength\n\u001b[1;32m     15\u001b[0m \u001b[38;5;66;03m#         print(f\"Name of student is {self.Name} and clg id is {self.id}\")\u001b[39;00m\n\u001b[0;32m---> 18\u001b[0m s1\u001b[38;5;241m=\u001b[39m\u001b[43mstudent\u001b[49m\u001b[43m(\u001b[49m\u001b[38;5;124;43m'\u001b[39;49m\u001b[38;5;124;43makash\u001b[39;49m\u001b[38;5;124;43m'\u001b[39;49m\u001b[43m,\u001b[49m\u001b[38;5;241;43m1\u001b[39;49m\u001b[43m)\u001b[49m\n\u001b[1;32m     19\u001b[0m s1\u001b[38;5;241m.\u001b[39m\u001b[38;5;21m__len__\u001b[39m()\n",
      "Input \u001b[0;32mIn [44]\u001b[0m, in \u001b[0;36mstudent.__init__\u001b[0;34m(self, name, clg_id)\u001b[0m\n\u001b[1;32m      7\u001b[0m \u001b[38;5;28;01mdef\u001b[39;00m \u001b[38;5;21m__init__\u001b[39m(\u001b[38;5;28mself\u001b[39m,name,clg_id):\n\u001b[0;32m----> 8\u001b[0m     \u001b[38;5;28;43msuper\u001b[39;49m\u001b[43m(\u001b[49m\u001b[43m)\u001b[49m\u001b[38;5;241;43m.\u001b[39;49m\u001b[38;5;21;43m__init__\u001b[39;49m\u001b[43m(\u001b[49m\u001b[43m)\u001b[49m\n\u001b[1;32m      9\u001b[0m     \u001b[38;5;28mself\u001b[39m\u001b[38;5;241m.\u001b[39mName\u001b[38;5;241m=\u001b[39mname\n\u001b[1;32m     10\u001b[0m     \u001b[38;5;28mself\u001b[39m\u001b[38;5;241m.\u001b[39mid\u001b[38;5;241m=\u001b[39mclg_id\n",
      "\u001b[0;31mTypeError\u001b[0m: __init__() missing 2 required positional arguments: 'name' and 'address'"
     ]
    }
   ],
   "source": [
    "class clg:\n",
    "    def __init__(self,name,address):\n",
    "        self.clg_name=name\n",
    "        self.address=address\n",
    "\n",
    "class student(clg):\n",
    "    def __init__(self,name,clg_id):\n",
    "        super().__init__()\n",
    "        self.Name=name\n",
    "        self.id=clg_id\n",
    "        self.length=len(self.Name)\n",
    "        \n",
    "    def __len__(self):\n",
    "        return self.length\n",
    "#         print(f\"Name of student is {self.Name} and clg id is {self.id}\")\n",
    "        \n",
    "        \n",
    "s1=student('akash',1)\n",
    "s1.__len__()"
   ]
  },
  {
   "cell_type": "code",
   "execution_count": null,
   "id": "df624512",
   "metadata": {},
   "outputs": [],
   "source": []
  }
 ],
 "metadata": {
  "kernelspec": {
   "display_name": "Python 3 (ipykernel)",
   "language": "python",
   "name": "python3"
  },
  "language_info": {
   "codemirror_mode": {
    "name": "ipython",
    "version": 3
   },
   "file_extension": ".py",
   "mimetype": "text/x-python",
   "name": "python",
   "nbconvert_exporter": "python",
   "pygments_lexer": "ipython3",
   "version": "3.9.12"
  }
 },
 "nbformat": 4,
 "nbformat_minor": 5
}
