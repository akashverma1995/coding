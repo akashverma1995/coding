{
 "cells": [
  {
   "cell_type": "markdown",
   "id": "adba3ee8",
   "metadata": {},
   "source": [
    "Given two arrays a[] and b[] of size n and m respectively. The task is to find union between these two arrays.\n",
    "\n",
    "Union of the two arrays can be defined as the set containing distinct elements from both the arrays. If there are repetitions, then only one occurrence of element should be printed in the union.\n"
   ]
  },
  {
   "cell_type": "code",
   "execution_count": null,
   "id": "a9b84b1d",
   "metadata": {},
   "outputs": [],
   "source": []
  },
  {
   "cell_type": "code",
   "execution_count": 9,
   "id": "7018ce46",
   "metadata": {},
   "outputs": [
    {
     "name": "stdout",
     "output_type": "stream",
     "text": [
      "[2, 3, 5, 7, 11, 13, 17, 19, 23, 25, 29, 31, 35, 37, 41, 43, 47, 49, 53, 55, 59, 61, 65, 67, 71, 73, 77, 79, 83, 85, 89, 91, 95, 97, 101, 103, 107, 109, 113, 115, 119, 121, 125, 127, 131, 133, 137, 139, 143, 145, 149, 151, 155, 157, 161, 163, 167, 169, 173, 175, 179, 181, 185, 187, 191, 193, 197, 199]\n"
     ]
    }
   ],
   "source": [
    "def prime(first_number,second_numer):\n",
    "    l=[]\n",
    "    for i in range(first_number,second_numer+1):\n",
    "        if i==2 or i==3:\n",
    "            l.append(i)\n",
    "        elif i%2==0 or i%3==0:\n",
    "            continue\n",
    "        else:\n",
    "            for n in range(i//2):\n",
    "                if i%(2*n+5)==0:\n",
    "                    l.append(i)\n",
    "                    break\n",
    "    return l\n",
    "l=prime(1,200)\n",
    "print(l)"
   ]
  },
  {
   "cell_type": "code",
   "execution_count": 12,
   "id": "f58c40d4",
   "metadata": {},
   "outputs": [
    {
     "name": "stdout",
     "output_type": "stream",
     "text": [
      "[1, 2, 3, 5, 7]\n"
     ]
    }
   ],
   "source": [
    "def prime(first_number,second_numer):\n",
    "    l=[]\n",
    "    for i in range(first_number,second_numer+1):\n",
    "        if i==2 or i==3 or i==5:\n",
    "            l.append(i)\n",
    "        elif i%2==0 or i%3==0:\n",
    "            continue\n",
    "        else:\n",
    "            for j in l:\n",
    "                if i%j==0:\n",
    "                    break\n",
    "            else:\n",
    "                l.append(i)\n",
    "            \n",
    "\n",
    "    return l\n",
    "l=prime(1,200)\n",
    "print(l)"
   ]
  },
  {
   "cell_type": "code",
   "execution_count": null,
   "id": "887400a8",
   "metadata": {},
   "outputs": [],
   "source": []
  },
  {
   "cell_type": "code",
   "execution_count": null,
   "id": "6d4872af",
   "metadata": {},
   "outputs": [],
   "source": []
  },
  {
   "cell_type": "code",
   "execution_count": null,
   "id": "f0cd4f75",
   "metadata": {},
   "outputs": [],
   "source": []
  },
  {
   "cell_type": "code",
   "execution_count": 144,
   "id": "aad42697",
   "metadata": {},
   "outputs": [
    {
     "name": "stdout",
     "output_type": "stream",
     "text": [
      "Not Prime\n",
      "0.0004284381866455078\n"
     ]
    }
   ],
   "source": [
    "# prime or not \n",
    "import time\n",
    "\n",
    "s=time.time()\n",
    "def prime(number):\n",
    "    if number==2 or number==3:\n",
    "        return 'Prime'\n",
    "    if number%2==0 and number%3==0:\n",
    "        return 'Not prime'\n",
    "    for n in range(1,number//2):\n",
    "        if number==(6*n-1) or number==(6*n+1):\n",
    "            return 'Prime'\n",
    "        else:\n",
    "            if number%(6*n-1)==0 or number%(6*n+1)==0:\n",
    "                return 'Not Prime'\n",
    "    return 'Prime'\n",
    "\n",
    "print(prime(200))\n",
    "e=time.time()\n",
    "print(e-s)"
   ]
  },
  {
   "cell_type": "code",
   "execution_count": null,
   "id": "005a825f",
   "metadata": {},
   "outputs": [],
   "source": [
    "# Prime Numbers Between two Numbers\n"
   ]
  },
  {
   "cell_type": "code",
   "execution_count": 119,
   "id": "2a1ccf30",
   "metadata": {},
   "outputs": [
    {
     "name": "stdout",
     "output_type": "stream",
     "text": [
      "\n",
      "1 \n",
      "2 3 \n",
      "4 5 6 \n",
      "7 8 9 10 \n"
     ]
    }
   ],
   "source": [
    "count=1\n",
    "for i in range(5):\n",
    "    for j in range(i):    \n",
    "        print(count,end=\" \")  \n",
    "        count+=1\n",
    "    print() "
   ]
  },
  {
   "cell_type": "code",
   "execution_count": 93,
   "id": "a0b3a5b0",
   "metadata": {},
   "outputs": [
    {
     "name": "stdout",
     "output_type": "stream",
     "text": [
      "\n",
      "10 \n",
      "9 8 \n",
      "7 6 5 \n",
      "4 3 2 1 \n"
     ]
    }
   ],
   "source": [
    "count=10\n",
    "for i in range(5):\n",
    "    for j in range(i):    \n",
    "        print(count,end=\" \")  \n",
    "        count-=1\n",
    "    print() "
   ]
  },
  {
   "cell_type": "code",
   "execution_count": 103,
   "id": "afbd02cc",
   "metadata": {},
   "outputs": [
    {
     "name": "stdout",
     "output_type": "stream",
     "text": [
      "1\n",
      "2\n",
      "3\n",
      "4\n",
      "\t\n",
      "5\n",
      "6\n",
      "7\n",
      "\t\n",
      "8\n",
      "9\n",
      "\t\n",
      "10\n",
      "\t\n",
      "\t\n"
     ]
    }
   ],
   "source": [
    "count=1\n",
    "for i in range(4,-1,-1):\n",
    "    for j in range(i):    \n",
    "        print(count) \n",
    "        count+=1\n",
    "    print('\\t') "
   ]
  },
  {
   "cell_type": "code",
   "execution_count": null,
   "id": "4b0a1577",
   "metadata": {},
   "outputs": [],
   "source": [
    "# Fabonnaci Series\n",
    "# 0 1 1 2 3 5 8 13 21\n",
    "\n",
    "# Print \n",
    "\n",
    "# Given n and Print nth Fabonacci series number\n",
    "# Method1\n",
    "def fab(n):\n",
    "    "
   ]
  },
  {
   "cell_type": "code",
   "execution_count": null,
   "id": "3318f211",
   "metadata": {},
   "outputs": [],
   "source": []
  },
  {
   "cell_type": "markdown",
   "id": "e3b80c0c",
   "metadata": {},
   "source": [
    "## MATHEMATICS"
   ]
  },
  {
   "cell_type": "code",
   "execution_count": null,
   "id": "7d8d3c96",
   "metadata": {},
   "outputs": [],
   "source": []
  },
  {
   "cell_type": "markdown",
   "id": "ac6033e8",
   "metadata": {},
   "source": [
    "## Puzzle"
   ]
  },
  {
   "cell_type": "code",
   "execution_count": null,
   "id": "2233570c",
   "metadata": {},
   "outputs": [],
   "source": []
  },
  {
   "cell_type": "markdown",
   "id": "69343787",
   "metadata": {},
   "source": [
    "## String"
   ]
  },
  {
   "cell_type": "code",
   "execution_count": 3,
   "id": "faf3fb76",
   "metadata": {},
   "outputs": [
    {
     "ename": "IndentationError",
     "evalue": "expected an indented block (3078401083.py, line 8)",
     "output_type": "error",
     "traceback": [
      "\u001b[0;36m  Input \u001b[0;32mIn [3]\u001b[0;36m\u001b[0m\n\u001b[0;31m    if __name__== '__main__':\u001b[0m\n\u001b[0m                             ^\u001b[0m\n\u001b[0;31mIndentationError\u001b[0m\u001b[0;31m:\u001b[0m expected an indented block\n"
     ]
    }
   ],
   "source": [
    "#Given an array arr[] of size N, check if it is sorted in non-decreasing order or not. \n",
    "\n",
    "class solution:\n",
    "    def arraySolution(self,arr,n):\n",
    "        temp=0\n",
    "        for i in len(arr):\n",
    "            temp1=arr[i]\n",
    "            if temp<temp1:\n",
    "                temp=temp1\n",
    "            else:\n",
    "                \n",
    "            \n",
    "        \n",
    "        \n",
    "        \n",
    "if __name__== '__main__':\n",
    "    tc=int(input())\n",
    "    while tc>0:\n",
    "        n=int(input())\n",
    "        arr=list(map(int,input().strip().split()))\n",
    "        ob=solution()\n",
    "        ans=ob.arraySolution(arr,n)\n",
    "        if ans:\n",
    "            print(1)\n",
    "        else:\n",
    "            print(0)\n",
    "        tc-=1"
   ]
  },
  {
   "cell_type": "code",
   "execution_count": 3,
   "id": "14ba0185",
   "metadata": {},
   "outputs": [
    {
     "name": "stdout",
     "output_type": "stream",
     "text": [
      "[1, 6, 6, 8, 9, 13, 17, 28, 29, 34, 45, 56]\n",
      "0.0003306865692138672\n"
     ]
    }
   ],
   "source": [
    "import time\n",
    "# [17,1,6,8,13,9,29,6]\n",
    "# arr=[17,1,6,8,13,9,29,6]\n",
    "\n",
    "# Solution 1\n",
    "arr=[17,1,6,8,13,9,29,6,28,56,34,45]\n",
    "# arr2=[]\n",
    "# tic=time.time()\n",
    "# for n in range(100):\n",
    "#     for i in arr:\n",
    "#         if n==i:\n",
    "#             arr2.append(n)\n",
    "# print(arr2)\n",
    "# toc=time.time()\n",
    "# print(toc-tic)\n",
    "\n",
    "\n",
    "#Solution 2\n",
    "arr=[17,1,6,8,13,9,29,6,28,56,34,45]\n",
    "\n",
    "for i in range(len(arr)):\n",
    "    "
   ]
  },
  {
   "cell_type": "code",
   "execution_count": null,
   "id": "0644f1ac",
   "metadata": {},
   "outputs": [],
   "source": [
    "arr=[17,1,6,8,13,9,29,6,28,56,34,45]\n",
    "for i range(len(arr)):\n",
    "    temp=i\n",
    "    for j in range(i+1,len(arr)):\n",
    "        \n",
    "    "
   ]
  },
  {
   "cell_type": "code",
   "execution_count": null,
   "id": "782963ee",
   "metadata": {},
   "outputs": [],
   "source": [
    "S = 'i.like.this.program.very.much'\n",
    "for i in range(len(S),-1,-1):\n",
    "    print(S[i])"
   ]
  }
 ],
 "metadata": {
  "kernelspec": {
   "display_name": "Python 3 (ipykernel)",
   "language": "python",
   "name": "python3"
  },
  "language_info": {
   "codemirror_mode": {
    "name": "ipython",
    "version": 3
   },
   "file_extension": ".py",
   "mimetype": "text/x-python",
   "name": "python",
   "nbconvert_exporter": "python",
   "pygments_lexer": "ipython3",
   "version": "3.9.12"
  }
 },
 "nbformat": 4,
 "nbformat_minor": 5
}
