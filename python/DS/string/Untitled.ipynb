{
 "cells": [
  {
   "cell_type": "markdown",
   "id": "6713c2cb",
   "metadata": {},
   "source": [
    "# "
   ]
  },
  {
   "cell_type": "code",
   "execution_count": 79,
   "id": "6f0cae84",
   "metadata": {},
   "outputs": [
    {
     "name": "stdout",
     "output_type": "stream",
     "text": [
      "['abcd', 'dabc', 'cabd', 'dcab', 'bacd', 'dbac', 'cbad', 'dcba', 'bacd', 'dbac', 'cbad', 'dcba', 'abcd', 'dabc', 'cabd', 'dcab', 'cabd', 'dcab', 'bcad', 'dbca', 'acbd', 'dacb', 'bacd', 'dbac', 'dabc', 'cdab', 'bdac', 'cbda', 'adbc', 'cadb', 'badc', 'cbad']\n"
     ]
    }
   ],
   "source": [
    "s='abcd'\n",
    "def permute(s,n,str1):\n",
    "\n",
    "    if len(str1)==len(s):\n",
    "        l.append(str1)\n",
    "        return \n",
    "\n",
    "    n+=1\n",
    "    if s[n] in set(str1):\n",
    "        n+=1\n",
    "    return permute(s,n,str1+s[n]),permute(s,n,s[n]+str1) \n",
    " \n",
    "l=[]\n",
    "for i in range(len(s)):\n",
    "    word=s[i]\n",
    "    permute(s,-1,word)\n",
    "print(l)"
   ]
  },
  {
   "cell_type": "code",
   "execution_count": 52,
   "id": "c1a76299",
   "metadata": {},
   "outputs": [
    {
     "data": {
      "text/plain": [
       "{'a', 'b', 'c'}"
      ]
     },
     "execution_count": 52,
     "metadata": {},
     "output_type": "execute_result"
    }
   ],
   "source": [
    "set('ab')"
   ]
  },
  {
   "cell_type": "code",
   "execution_count": null,
   "id": "926b9816",
   "metadata": {},
   "outputs": [],
   "source": []
  }
 ],
 "metadata": {
  "kernelspec": {
   "display_name": "Python 3 (ipykernel)",
   "language": "python",
   "name": "python3"
  },
  "language_info": {
   "codemirror_mode": {
    "name": "ipython",
    "version": 3
   },
   "file_extension": ".py",
   "mimetype": "text/x-python",
   "name": "python",
   "nbconvert_exporter": "python",
   "pygments_lexer": "ipython3",
   "version": "3.9.12"
  }
 },
 "nbformat": 4,
 "nbformat_minor": 5
}
