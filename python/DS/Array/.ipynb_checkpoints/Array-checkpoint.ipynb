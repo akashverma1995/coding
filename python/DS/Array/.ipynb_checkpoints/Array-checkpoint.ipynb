{
 "cells": [
  {
   "cell_type": "markdown",
   "id": "4e3dd1b3",
   "metadata": {},
   "source": [
    "https://practice.geeksforgeeks.org/problems/subarray-with-given-sum-1587115621/1\n",
    "\n",
    "Given an unsorted array A of size N that contains only non-negative integers, find a continuous sub-array which adds to a given number S.\n",
    "\n",
    "In case of multiple subarrays, return the subarray which comes first on moving from left to right.\n",
    "\n",
    "input:\n",
    "N = 5, S = 12\n",
    "A[] = {1,2,3,7,5}\n",
    "Output: 2 4\n",
    "Explanation: The sum of elements \n",
    "from 2nd position to 4th position \n",
    "is 12."
   ]
  },
  {
   "cell_type": "code",
   "execution_count": 55,
   "id": "c6b188c3",
   "metadata": {},
   "outputs": [
    {
     "name": "stdout",
     "output_type": "stream",
     "text": [
      "(1, 4)\n"
     ]
    }
   ],
   "source": [
    "# My method O(n*n)\n",
    "sum1=15\n",
    "arr1=[1,2,3,4,5,6,7,8,9,10]\n",
    "\n",
    "def f1(arr1,sum1,l1):  \n",
    "    for i in range(l1):\n",
    "        if arr1[i]==sum1:\n",
    "            return i+1\n",
    "        else:\n",
    "            for j in range(i+1,l1):\n",
    "                if sum(arr1[i:j+1])==sum1:\n",
    "                    return i+1,j\n",
    "                if sum(arr1[i:j+1])>sum1:\n",
    "                    break\n",
    "                    \n",
    "len1=len(arr1)              \n",
    "print(f1(arr1,sum1,len1))"
   ]
  },
  {
   "cell_type": "code",
   "execution_count": 41,
   "id": "bc46da0d",
   "metadata": {},
   "outputs": [
    {
     "name": "stdout",
     "output_type": "stream",
     "text": [
      "[2, 4]\n"
     ]
    }
   ],
   "source": [
    "#others methods O(n)\n",
    "def subArraySum(arr, n, s): \n",
    "    st=0\n",
    "    e=0\n",
    "    curr=0\n",
    "    if s==0:\n",
    "        return([-1])\n",
    "    while(st<n and e<=n):\n",
    "        if(curr<s ):\n",
    "            if(e==n):\n",
    "                break\n",
    "            curr+=arr[e]\n",
    "            e+=1\n",
    "        elif(curr>s):\n",
    "            curr-=arr[st]\n",
    "            st+=1\n",
    "        if(curr==s):\n",
    "            return([st+1,e])\n",
    "    return([-1])\n",
    "sum1=12\n",
    "arr1=[1,2,3,7,5]\n",
    "n=len(arr1)\n",
    "print(subArraySum(arr1,n,sum1))"
   ]
  },
  {
   "cell_type": "markdown",
   "id": "2adfe399",
   "metadata": {},
   "source": [
    "https://practice.geeksforgeeks.org/problems/count-the-triplets4615/1\n",
    "\n",
    "Given an array of distinct integers. The task is to count all the triplets such that sum of two elements equals the third element.\n",
    "\n",
    "Input: \n",
    "N = 4 \n",
    "arr[] = {1, 5, 3, 2}\n",
    "Output: 2 \n",
    "Explanation: There are 2 triplets:\n",
    " 1 + 2 = 3 and 3 +2 = 5"
   ]
  },
  {
   "cell_type": "code",
   "execution_count": 76,
   "id": "9f5d98f0",
   "metadata": {},
   "outputs": [
    {
     "name": "stdout",
     "output_type": "stream",
     "text": [
      "[2, 5, 8, 10, 11, 12, 14]\n",
      "0\n"
     ]
    }
   ],
   "source": [
    "arr1=[12, 8, 2 ,11, 5 ,14, 10]\n",
    "\n",
    "# not a generic solution\n",
    "def TrippletCount(arr,n):\n",
    "    arr=sorted(arr)\n",
    "    print(arr)\n",
    "    if n<3:\n",
    "        return 0\n",
    "    \n",
    "    ways=0 \n",
    "    p1=0\n",
    "    p2=1\n",
    "    p3=2\n",
    "    temp=2\n",
    "    while(p1<=n-1 and p2<=n-1 and p3<=n-1):\n",
    "        if arr[p3]==(arr[p2]+arr[p1]):\n",
    "#             print(arr[p3],arr[p2],arr[p1])\n",
    "            ways=ways+1\n",
    "        if p3==n-1:\n",
    "            p1=p1+1\n",
    "            p2=p2+1\n",
    "            temp=temp+1\n",
    "            p3=temp\n",
    "        else:\n",
    "            p3=p3+1\n",
    "        if p1>n and p2>n and p3>n:\n",
    "            break\n",
    "    return ways\n",
    "\n",
    "print(TrippletCount(arr1,len(arr1)))"
   ]
  },
  {
   "cell_type": "code",
   "execution_count": 100,
   "id": "d97280cd",
   "metadata": {},
   "outputs": [
    {
     "name": "stdout",
     "output_type": "stream",
     "text": [
      "2\n"
     ]
    }
   ],
   "source": [
    "# not generic solution ---  # my methods\n",
    "def subArraySum(arr, n, s): \n",
    "    for i in range(n):\n",
    "        for j in range(i+1,n):\n",
    "            if arr[i]+arr[j]==s:\n",
    "                return 'True'\n",
    "    return 'False'\n",
    "\n",
    "def TrippletCount(arr,n):\n",
    "    arr=sorted(arr)\n",
    "#     if n<3:\n",
    "#         return \n",
    "    \n",
    "    ways=0 \n",
    "    for i in range(2,n):\n",
    "        s=arr[i]\n",
    "#         print(s)\n",
    "        arr1=arr[0:i]\n",
    "#         print(arr1)\n",
    "        n1=len(arr1)\n",
    "#         print(subArraySum(arr1,n1,s))\n",
    "        if subArraySum(arr1,n1,s)=='True':\n",
    "            ways=ways+1\n",
    "#         print(ways)\n",
    "    return ways\n",
    "arr=[14, 3 ,6 ,8 ,11, 16]\n",
    "n=len(arr)\n",
    "print(TrippletCount(arr,n))"
   ]
  },
  {
   "cell_type": "code",
   "execution_count": 1,
   "id": "d327fba3",
   "metadata": {},
   "outputs": [
    {
     "name": "stdout",
     "output_type": "stream",
     "text": [
      "3\n"
     ]
    }
   ],
   "source": [
    "# otners method O(n) 0.38 sec for 30 casec \n",
    "arr=[14, 3 ,6 ,8 ,11, 16]\n",
    "n=len(arr)\n",
    "s=set(arr)\n",
    "ways=0\n",
    "for i in range(n-1):\n",
    "    for j in range(i+1,n):\n",
    "        if arr[i]+arr[j] in s:\n",
    "            ways+=1\n",
    "print(ways)"
   ]
  },
  {
   "cell_type": "code",
   "execution_count": 3,
   "id": "aebf0196",
   "metadata": {},
   "outputs": [
    {
     "name": "stdout",
     "output_type": "stream",
     "text": [
      "3\n"
     ]
    }
   ],
   "source": [
    "# time 0.79 for 30 cases\n",
    "arr=[14, 3 ,6 ,8 ,11, 16]\n",
    "n=len(arr)\n",
    "arr=sorted(arr)\n",
    "ans = 0;\n",
    "\n",
    "for i in range(n-1,-1,-1):\n",
    "    j = 0\n",
    "    k = i - 1\n",
    "    while (j < k):\n",
    "        if(arr[i] == arr[j] + arr[k]):          \n",
    "            ans+=1\n",
    "            j+=1\n",
    "            k-=1\n",
    "        elif (arr[i] > arr[j] + arr[k]):\n",
    "            j+=1\n",
    "        else:\n",
    "            k-=1\n",
    "print(ans)"
   ]
  },
  {
   "cell_type": "markdown",
   "id": "71872c7b",
   "metadata": {},
   "source": [
    "https://practice.geeksforgeeks.org/problems/kadanes-algorithm-1587115620/1\n",
    "\n",
    "Given an array Arr[] of N integers. Find the contiguous sub-array(containing at least one number) which has the maximum sum and return its sum.\n",
    "\n",
    "Input:\n",
    "N = 5\n",
    "Arr[] = {1,2,3,-2,5}\n",
    "Output:\n",
    "9\n",
    "Explanation:\n",
    "Max subarray sum is 9\n",
    "of elements (1, 2, 3, -2, 5) which \n",
    "is a contiguous subarray.\n"
   ]
  },
  {
   "cell_type": "code",
   "execution_count": 19,
   "id": "363a1d6d",
   "metadata": {
    "scrolled": true
   },
   "outputs": [
    {
     "name": "stdout",
     "output_type": "stream",
     "text": [
      "9\n"
     ]
    }
   ],
   "source": [
    "# My metthods O(n*n)\n",
    "arr=[1,2,3,-2,5]\n",
    "n=5\n",
    "p1=1\n",
    "sum1=0\n",
    "for i in range(n):\n",
    "    for j in range(n-i):\n",
    "        if sum(arr[j:j+p1])>sum1:\n",
    "            sum1=sum(arr[j:j+p1])\n",
    "    p1=p1+1\n",
    "print(sum1)"
   ]
  },
  {
   "cell_type": "code",
   "execution_count": 1,
   "id": "7df2df08",
   "metadata": {
    "scrolled": true
   },
   "outputs": [
    {
     "name": "stdout",
     "output_type": "stream",
     "text": [
      "9\n"
     ]
    }
   ],
   "source": [
    "# kadanes algorithm\n",
    "arr=[1,2,3,-2,5]\n",
    "N=len(arr)\n",
    "currsum=0\n",
    "maxsum=-float('inf')\n",
    "for i in range(N):\n",
    "    currsum=currsum+arr[i]\n",
    "    if currsum>maxsum:\n",
    "        maxsum=currsum\n",
    "    if currsum<0:\n",
    "        currsum=0\n",
    "print(maxsum)"
   ]
  },
  {
   "cell_type": "markdown",
   "id": "c78ce11f",
   "metadata": {},
   "source": [
    "https://practice.geeksforgeeks.org/problems/missing-number-in-array/0\n",
    "\n",
    "Given an array of size N-1 such that it only contains distinct integers in the range of 1 to N. Find the missing element.\n",
    "\n",
    "N = 5\n",
    "A[] = {1,2,3,5}\n",
    "Output: 4"
   ]
  },
  {
   "cell_type": "code",
   "execution_count": 2,
   "id": "96dd2bad",
   "metadata": {},
   "outputs": [
    {
     "name": "stdout",
     "output_type": "stream",
     "text": [
      "4\n"
     ]
    }
   ],
   "source": [
    "N=5\n",
    "array=[1,2,3,5]\n",
    "arr=set(array)\n",
    "for i in range(1,N+1):\n",
    "    if i not in arr:\n",
    "        print(i)\n",
    "        break"
   ]
  },
  {
   "cell_type": "code",
   "execution_count": 8,
   "id": "50e3a0c3",
   "metadata": {},
   "outputs": [
    {
     "name": "stdout",
     "output_type": "stream",
     "text": [
      "9.0\n"
     ]
    }
   ],
   "source": [
    "# other method \n",
    "def getMissingNo(arr, n):\n",
    "    total = (n + 1)*(n + 2)/2 # n(n+1)/2\n",
    "    sum_of_A = sum(arr)\n",
    "    return total - sum_of_A\n",
    "array=[6,1,2,8,3,4,7,10,5]\n",
    "print(getMissingNo(array,len(array)))"
   ]
  },
  {
   "cell_type": "code",
   "execution_count": null,
   "id": "9b6a08f2",
   "metadata": {},
   "outputs": [],
   "source": []
  },
  {
   "cell_type": "code",
   "execution_count": 28,
   "id": "f73c5b50",
   "metadata": {},
   "outputs": [
    {
     "name": "stdout",
     "output_type": "stream",
     "text": [
      "[0, 1, 2, 3, 5, 6, 7, 8, 9]\n",
      "[0, 1, 2, 3] [5, 6, 7, 8, 9]\n"
     ]
    }
   ],
   "source": [
    "n = 4\n",
    "arr1= [1 ,3 ,5, 7] \n",
    "m = 5\n",
    "arr2=[0, 2, 6, 8 ,9]\n",
    "p1=0\n",
    "p2=0\n",
    "l=[]\n",
    "while(p1<=n-1 and p2<=m-1):\n",
    "    if arr1[p1]>arr2[p2]:\n",
    "        l.append(arr2[p2])\n",
    "        p2+=1\n",
    "        if p2>m-1:\n",
    "            while(p1<=n-1):\n",
    "                l.append(arr1[p1])\n",
    "                p1+=1  \n",
    "    else:\n",
    "        l.append(arr1[p1])\n",
    "        p1+=1\n",
    "        if p1>n-1:\n",
    "            while(p2<=m-1):\n",
    "                l.append(arr2[p2])\n",
    "                p2+=1\n",
    "print(l)\n",
    "print(l[0:n],l[n:len(l)])"
   ]
  },
  {
   "cell_type": "markdown",
   "id": "b049efbc",
   "metadata": {},
   "source": [
    "https://practice.geeksforgeeks.org/problems/-rearrange-array-alternately/0\n",
    "\n",
    "Given a sorted array of positive integers. Your task is to rearrange  the array elements alternatively i.e first element should be max value, second should be min value, third should be second max, fourth should be second min and so on.\n",
    "Note: Modify the original array itself.\n",
    "\n",
    "Input:\n",
    "N = 6\n",
    "arr[] = {1,2,3,4,5,6}\n",
    "Output: 6 1 5 2 4 3\n",
    "Explanation: Max element = 6, min = 1, \n",
    "second max = 5, second min = 2, and \n",
    "so on... Modified array is : 6 1 5 2 4 3."
   ]
  },
  {
   "cell_type": "code",
   "execution_count": 2,
   "id": "877abfdc",
   "metadata": {},
   "outputs": [
    {
     "name": "stdout",
     "output_type": "stream",
     "text": [
      "[6, 1, 5, 2, 4, 3]\n"
     ]
    }
   ],
   "source": [
    "# time=O(n) #space O(n)\n",
    "arr=[1,2,3,4,5,6]\n",
    "n=6\n",
    "l=[]\n",
    "p1=0\n",
    "p2=n-1\n",
    "while(p2>=p1):\n",
    "    l.append(arr[p2])\n",
    "    l.append(arr[p1])\n",
    "    p1+=1\n",
    "    p2-=1\n",
    "arr=l\n",
    "print(arr)"
   ]
  },
  {
   "cell_type": "code",
   "execution_count": 6,
   "id": "60fe20c4",
   "metadata": {},
   "outputs": [
    {
     "name": "stdout",
     "output_type": "stream",
     "text": [
      "[6, 1, 5, 2, 4, 3]\n"
     ]
    }
   ],
   "source": [
    "# time=O(n) #space O(1)\n",
    "arr=[1,2,3,4,5,6]\n",
    "n=6\n",
    "mini = 0\n",
    "maxi = n-1\n",
    "max_ele = arr[n-1]+1\n",
    "\n",
    "for i in range(n):\n",
    "    if (i%2)==0:\n",
    "        arr[i] += (arr[maxi]%max_ele) * max_ele\n",
    "        maxi-=1\n",
    "    else:\n",
    "        arr[i] += (arr[mini]%max_ele) * max_ele\n",
    "        mini+=1\n",
    "\n",
    "for i in range(n):\n",
    "    arr[i] = arr[i]//max_ele\n",
    "print(arr)"
   ]
  },
  {
   "cell_type": "code",
   "execution_count": 8,
   "id": "89dab08f",
   "metadata": {},
   "outputs": [
    {
     "name": "stdout",
     "output_type": "stream",
     "text": [
      "[6, 1, 5, 2, 4, 3]\n"
     ]
    }
   ],
   "source": [
    "arr=[1,2,3,4,5,6]\n",
    "n=6\n",
    "res=[0]*n\n",
    "i=n-1\n",
    "while i>=n//2:\n",
    "    res[2*(n-i-1)]=arr[i]\n",
    "    i-=1\n",
    "i=0\n",
    "while i<n//2:\n",
    "    res[(2*i)+1]=arr[i]\n",
    "    i+=1\n",
    "arr[:]=res[:]\n",
    "print(arr[:])"
   ]
  },
  {
   "cell_type": "code",
   "execution_count": null,
   "id": "7ea0b14d",
   "metadata": {},
   "outputs": [],
   "source": []
  },
  {
   "cell_type": "code",
   "execution_count": 28,
   "id": "49a44fc8",
   "metadata": {},
   "outputs": [
    {
     "data": {
      "text/plain": [
       "False"
      ]
     },
     "execution_count": 28,
     "metadata": {},
     "output_type": "execute_result"
    }
   ],
   "source": [
    "x=5\n",
    "y=6\n",
    "x**y>y**x"
   ]
  },
  {
   "cell_type": "code",
   "execution_count": 33,
   "id": "ba4047ab",
   "metadata": {},
   "outputs": [
    {
     "name": "stdout",
     "output_type": "stream",
     "text": [
      "2\n"
     ]
    }
   ],
   "source": [
    " def countPairs(a,b,M,N):\n",
    "        #code here\n",
    "        def binary_search(list1, n):  \n",
    "            low = 0  \n",
    "            high = len(list1) - 1  \n",
    "            mid = 0  \n",
    "          \n",
    "            while low <= high:  \n",
    "                # for get integer result   \n",
    "                mid = (high + low) // 2  \n",
    "          \n",
    "                # Check if n is present at mid   \n",
    "                if list1[mid] < n:  \n",
    "                    low = mid + 1  \n",
    "          \n",
    "                # If n is greater, compare to the right of mid   \n",
    "                elif list1[mid] > n:  \n",
    "                    high = mid - 1  \n",
    "          \n",
    "                # If n is smaller, compared to the left of mid  \n",
    "                else:  \n",
    "                    return mid  \n",
    "            return -1\n",
    "        \n",
    "        a=sorted(a)\n",
    "        b=sorted(b)\n",
    "        ways=0\n",
    "        for i in a:\n",
    "            if i>2:\n",
    "                s=binary_search(b,i)\n",
    "#                 print(s)\n",
    "                s1=N-1-s\n",
    "                if s1>0:\n",
    "                    ways=ways+s1\n",
    "            if i==2:\n",
    "                for j in range(N):\n",
    "                    if b[j]>=5:\n",
    "                        s1=N-1-j\n",
    "                        ways=ways+s1\n",
    "        return ways \n",
    "a=[2,1,6]\n",
    "b=[1,5]\n",
    "M=len(a)\n",
    "N=len(b)\n",
    "print(countPairs(a,b,M,N))"
   ]
  },
  {
   "cell_type": "markdown",
   "id": "9dec68c7",
   "metadata": {},
   "source": [
    "https://practice.geeksforgeeks.org/problems/sort-an-array-of-0s-1s-and-2s/0\n",
    "\n",
    "Given an array of size N containing only 0s, 1s, and 2s; sort the array in ascending order.\n",
    "\n",
    "Input: \n",
    "N = 5\n",
    "arr[]= {0 2 1 2 0}\n",
    "Output:\n",
    "0 0 1 2 2\n",
    "Explanation:\n",
    "0s 1s and 2s are segregated \n",
    "into ascending order.\n"
   ]
  },
  {
   "cell_type": "code",
   "execution_count": 3,
   "id": "0eecb98d",
   "metadata": {},
   "outputs": [
    {
     "name": "stdout",
     "output_type": "stream",
     "text": [
      "[0, 0, 1, 2, 2]\n"
     ]
    }
   ],
   "source": [
    "# Dutch algorithms\n",
    "arr=[0,2,1,2,0]\n",
    "N=5\n",
    "\n",
    "def sort012(arr,N):\n",
    "    low=0\n",
    "    high=N-1\n",
    "    mid=0\n",
    "    while(mid<=high):\n",
    "        if arr[mid]==0:\n",
    "            arr[low],arr[mid]=arr[mid],arr[low]\n",
    "            low+=1\n",
    "            mid+=1\n",
    "        elif arr[mid]==1:\n",
    "            mid+=1\n",
    "        else:\n",
    "            arr[high],arr[mid]=arr[mid],arr[high]\n",
    "            high-=1\n",
    "    return arr\n",
    "\n",
    "print(sort012(arr,N)) "
   ]
  },
  {
   "cell_type": "code",
   "execution_count": 5,
   "id": "69df6cc2",
   "metadata": {},
   "outputs": [
    {
     "name": "stdout",
     "output_type": "stream",
     "text": [
      "[0, 0, 1, 2, 2]\n"
     ]
    }
   ],
   "source": [
    "arr=[0,2,1,2,0]\n",
    "N=5\n",
    "def sort012(arr,n):\n",
    "        zero_c = 0\n",
    "        one_c = 0\n",
    "        for i in range(n):\n",
    "            if arr[i] == 0:\n",
    "                zero_c+=1\n",
    "            elif arr[i] == 1:\n",
    "                one_c+=1\n",
    "        \n",
    "        arr[:zero_c] = [0]*zero_c\n",
    "        arr[zero_c:zero_c+one_c] = [1]*one_c\n",
    "        arr[zero_c+one_c:] = [2]*(n-(zero_c+one_c))\n",
    "        return arr\n",
    "print(sort012(arr,N)) "
   ]
  },
  {
   "cell_type": "markdown",
   "id": "878f459a",
   "metadata": {},
   "source": [
    "# 22 NOV 2022"
   ]
  },
  {
   "cell_type": "markdown",
   "id": "a0d7681d",
   "metadata": {},
   "source": [
    "https://practice.geeksforgeeks.org/problems/equilibrium-point-1587115620/1\n",
    "\n",
    "Given an array A of n positive numbers. The task is to find the first Equilibium Point in the array. \n",
    "Equilibrium Point in an array is a position such that the sum of elements before it is equal to the sum of elements after it.\n",
    "\n",
    "Input: \n",
    "n = 5 \n",
    "A[] = {1,3,5,2,2} \n",
    "Output: 3 \n",
    "Explanation:  \n",
    "equilibrium point is at position 3 \n",
    "as elements before it (1+3) = \n",
    "elements after it (2+2). "
   ]
  },
  {
   "cell_type": "code",
   "execution_count": 10,
   "id": "dfb1205d",
   "metadata": {},
   "outputs": [
    {
     "name": "stdout",
     "output_type": "stream",
     "text": [
      "-1\n"
     ]
    }
   ],
   "source": [
    "# Method1 but takes more amount of time\n",
    "arr=[1,3,5,2,2]\n",
    "N=5\n",
    "\n",
    "def equilibriumPoint(arr, N):\n",
    "    if N==1:\n",
    "        return 1\n",
    "    for i in range(2,N):\n",
    "        if sum(arr[:i])==sum(arr[i+1:N]):\n",
    "            return i+1\n",
    "    return -1 \n",
    "print(equilibriumPoint(arr, N)) "
   ]
  },
  {
   "cell_type": "code",
   "execution_count": 8,
   "id": "35caa4ce",
   "metadata": {},
   "outputs": [
    {
     "name": "stdout",
     "output_type": "stream",
     "text": [
      "3\n"
     ]
    }
   ],
   "source": [
    "# Method2\n",
    "arr=[1,3,5,2,2]\n",
    "N=5\n",
    "\n",
    "def equilibriumPoint(arr, N):\n",
    "    total=sum(arr)\n",
    "    sum1=0\n",
    "    l=len(arr)\n",
    "    if l==1:\n",
    "        return 1\n",
    "    for i in range(l):\n",
    "        if sum1!=total-sum1-arr[i]:\n",
    "            sum1=sum1+arr[i]\n",
    "        else:\n",
    "            return i+1\n",
    "    return -1\n",
    "    \n",
    "print(equilibriumPoint(arr, N))"
   ]
  },
  {
   "cell_type": "markdown",
   "id": "3816f7cf",
   "metadata": {},
   "source": [
    "https://practice.geeksforgeeks.org/problems/leaders-in-an-array-1587115620/1\n",
    "\n",
    "Given an array A of positive integers. Your task is to find the leaders in the array. An element of array is leader if it is greater than or equal to all the elements to its right side. The rightmost element is always a leader. \n",
    "\n",
    "Input:\n",
    "n = 6\n",
    "A[] = {16,17,4,3,5,2}\n",
    "Output: 17 5 2\n",
    "Explanation: The first leader is 17 \n",
    "as it is greater than all the elements\n",
    "to its right.  Similarly, the next \n",
    "leader is 5. The right most element \n",
    "is always a leader so it is also \n",
    "included."
   ]
  },
  {
   "cell_type": "code",
   "execution_count": 9,
   "id": "5ab468a7",
   "metadata": {},
   "outputs": [
    {
     "name": "stdout",
     "output_type": "stream",
     "text": [
      "[17, 5, 2]\n"
     ]
    }
   ],
   "source": [
    "#Method1 T(n)->O(n*n)\n",
    "arr=[16,17,4,3,5,2]\n",
    "l1=[]\n",
    "for i in range(len(arr)):\n",
    "    flag=True\n",
    "    for j in range(i+1,len(arr)):\n",
    "        if arr[i]<arr[j]:\n",
    "            flag=False\n",
    "            break\n",
    "    if flag==True:\n",
    "        l1.append(arr[i])\n",
    "print(l1)"
   ]
  },
  {
   "cell_type": "code",
   "execution_count": 12,
   "id": "3859fc6c",
   "metadata": {},
   "outputs": [
    {
     "name": "stdout",
     "output_type": "stream",
     "text": [
      "[2, 5, 17]\n"
     ]
    }
   ],
   "source": [
    "#Method2 \n",
    "arr=[16,17,4,3,5,2]\n",
    "leader_arr=[]\n",
    "max1=0\n",
    "l=len(arr)\n",
    "for i in range(l-1,-1,-1):\n",
    "    if max1<=arr[i]:\n",
    "        max1=arr[i]\n",
    "        leader_arr.append(arr[i])\n",
    "print(leader_arr)"
   ]
  },
  {
   "cell_type": "markdown",
   "id": "39c65e7f",
   "metadata": {},
   "source": [
    "https://practice.geeksforgeeks.org/problems/minimum-platforms-1587115620/1\n",
    "\n",
    "Given arrival and departure times of all trains that reach a railway station. Find the minimum number of platforms required for the railway station so that no train is kept waiting.\n",
    "Consider that all the trains arrive on the same day and leave on the same day. Arrival and departure time can never be the same for a train but we can have arrival time of one train equal to departure time of the other. At any given instance of time, same platform can not be used for both departure of a train and arrival of another train. In such cases, we need different platforms.\n",
    "\n",
    "Input: n = 6 \n",
    "arr[] = {0900, 0940, 0950, 1100, 1500, 1800}\n",
    "dep[] = {0910, 1200, 1120, 1130, 1900, 2000}\n",
    "Output: 3\n",
    "Explanation: \n",
    "Minimum 3 platforms are required to \n",
    "safely arrive and depart all trains."
   ]
  },
  {
   "cell_type": "code",
   "execution_count": null,
   "id": "e89a9673",
   "metadata": {},
   "outputs": [],
   "source": [
    "# Methoda\n",
    "\n",
    "arrival=[900, 940, 950, 1100, 1500, 1800]\n",
    "depar=[910, 1200, 1120, 1130, 1900, 2000]\n",
    "\n",
    "wait=[]1200,1150, 1900\n",
    "\n",
    "a1=1\n",
    "Platform=1 2 3\n",
    "\n",
    "for i in depar:\n",
    "    if arrival[a1]>=depar:\n",
    "        a1+=1\n",
    "    else:\n",
    "        wait=sorted(wait)\n",
    "        wait.append(i)\n",
    "        platform+=1\n",
    "        \n",
    "        "
   ]
  },
  {
   "cell_type": "code",
   "execution_count": null,
   "id": "e8f563cb",
   "metadata": {},
   "outputs": [],
   "source": []
  },
  {
   "cell_type": "code",
   "execution_count": null,
   "id": "8f2f5bc0",
   "metadata": {},
   "outputs": [],
   "source": []
  },
  {
   "cell_type": "markdown",
   "id": "b02f84c3",
   "metadata": {},
   "source": [
    "https://practice.geeksforgeeks.org/problems/reverse-array-in-groups0255/1\n",
    "\n",
    "Given an array arr[] of positive integers of size N. Reverse every sub-array group of size K.\n",
    "\n",
    "Note: If at any instance, there are no more subarrays of size greater than or equal to K, then reverse the last subarray (irrespective of its size). You shouldn't return any array, modify the given array in-place.\n",
    "\n",
    "Input:\n",
    "N = 5, K = 3\n",
    "arr[] = {1,2,3,4,5}\n",
    "Output: 3 2 1 5 4\n",
    "Explanation: First group consists of elements\n",
    "1, 2, 3. Second group consists of 4,5."
   ]
  },
  {
   "cell_type": "code",
   "execution_count": 28,
   "id": "f4667441",
   "metadata": {},
   "outputs": [
    {
     "name": "stdout",
     "output_type": "stream",
     "text": [
      "26\n",
      "0 12\n",
      "[38, 22, 16, 30, 82, 0, 70, 55, 96, 48, 64, 93, 36, 53, 19, 50, 91, 43, 70, 88, 10, 57, 14, 94, 13, 36, 67, 82, 18, 58, 54, 32, 59]\n"
     ]
    }
   ],
   "source": [
    "N=33 \n",
    "K=13\n",
    "arr=[36, 93, 64, 48, 96, 55, 70, 0, 82, 30, 16, 22, 38, \n",
    "     53, 19, 50 ,91, 43, 70, 88, 10, 57, 14, 94, 13, 36,\n",
    "     59, 32, 54, 58, 18, 82, 67]\n",
    "\n",
    "remainder=N%K\n",
    "divisiable=N//K\n",
    "index=divisiable*K\n",
    "print(index)\n",
    "\n",
    "for i in range(0,divisiable,K):\n",
    "    start=i\n",
    "    end=i+K-1\n",
    "    print(start,end)\n",
    "    while(start<=end):\n",
    "        temp=arr[start]\n",
    "        arr[start]=arr[end]\n",
    "        arr[end]=temp\n",
    "        start+=1\n",
    "        end-=1\n",
    "if remainder>1:\n",
    "    start=index\n",
    "    end=N-1\n",
    "    while(start<=end):\n",
    "        temp=arr[start]\n",
    "        arr[start]=arr[end]\n",
    "        arr[end]=temp\n",
    "        start+=1\n",
    "        end-=1\n",
    "print(arr)"
   ]
  },
  {
   "cell_type": "code",
   "execution_count": 18,
   "id": "9a935d93",
   "metadata": {},
   "outputs": [
    {
     "name": "stdout",
     "output_type": "stream",
     "text": [
      "0\n",
      "3\n",
      "6\n"
     ]
    }
   ],
   "source": [
    "N=33 \n",
    "K=13\n",
    "arr=[36, 93, 64, 48, 96, 55, 70, 0, 82, 30, 16, 22, 38, 53, 19, 50 ,91, 43, 70, 88, 10, 57, 14, 94, 13, 36, 59, 32, 54, 58, 18, 82, 67]"
   ]
  },
  {
   "cell_type": "code",
   "execution_count": null,
   "id": "667ffcf4",
   "metadata": {},
   "outputs": [],
   "source": []
  }
 ],
 "metadata": {
  "kernelspec": {
   "display_name": "Python 3 (ipykernel)",
   "language": "python",
   "name": "python3"
  },
  "language_info": {
   "codemirror_mode": {
    "name": "ipython",
    "version": 3
   },
   "file_extension": ".py",
   "mimetype": "text/x-python",
   "name": "python",
   "nbconvert_exporter": "python",
   "pygments_lexer": "ipython3",
   "version": "3.9.12"
  }
 },
 "nbformat": 4,
 "nbformat_minor": 5
}
